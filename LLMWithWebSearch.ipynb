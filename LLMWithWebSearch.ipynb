{
 "cells": [
  {
   "cell_type": "code",
   "execution_count": 3,
   "metadata": {},
   "outputs": [
    {
     "data": {
      "text/plain": [
       "True"
      ]
     },
     "execution_count": 3,
     "metadata": {},
     "output_type": "execute_result"
    }
   ],
   "source": [
    "from dotenv import find_dotenv, load_dotenv\n",
    "load_dotenv(find_dotenv())"
   ]
  },
  {
   "cell_type": "markdown",
   "metadata": {},
   "source": [
    "### Agent With SearchAPI"
   ]
  },
  {
   "cell_type": "code",
   "execution_count": 2,
   "metadata": {},
   "outputs": [],
   "source": [
    "from langchain.agents import AgentType, Tool, initialize_agent\n",
    "from langchain_community.utilities import SearchApiAPIWrapper\n",
    "from langchain.llms import OpenAI"
   ]
  },
  {
   "cell_type": "code",
   "execution_count": null,
   "metadata": {},
   "outputs": [],
   "source": [
    "llm = OpenAI(temperature=0, model_name=\"gpt-4-turbo\")\n",
    "search = SearchApiAPIWrapper()\n",
    "\n",
    "tools = [\n",
    "    Tool(\n",
    "        name=\"Intermediate Answer\",\n",
    "        func=search.run,\n",
    "        description=\"useful for when you need to ask with search\",\n",
    "    )\n",
    "]\n",
    "\n",
    "self_ask_with_search = initialize_agent(\n",
    "    tools, llm, agent=AgentType.ZERO_SHOT_REACT_DESCRIPTION, verbose=True\n",
    ")\n",
    "self_ask_with_search.run(\"قضیه اعتصاب طلافروشان تهران چیست؟\")"
   ]
  },
  {
   "cell_type": "markdown",
   "metadata": {},
   "source": [
    "### Search With DuckDuckGo"
   ]
  },
  {
   "cell_type": "code",
   "execution_count": null,
   "metadata": {},
   "outputs": [],
   "source": [
    "from langchain_community.tools import DuckDuckGoSearchResults\n",
    "\n",
    "search = DuckDuckGoSearchResults(backend=\"news\")\n",
    "print(search.run(\"امروز قیمت طلا چنده؟\"))"
   ]
  },
  {
   "cell_type": "markdown",
   "metadata": {},
   "source": [
    "### LLMChain with Tavily Search API"
   ]
  },
  {
   "cell_type": "code",
   "execution_count": 5,
   "metadata": {},
   "outputs": [],
   "source": [
    "from langchain_community.retrievers import TavilySearchAPIRetriever\n",
    "\n",
    "from langchain.callbacks.tracers import ConsoleCallbackHandler\n",
    "from langchain_core.output_parsers import StrOutputParser\n",
    "from langchain_core.prompts import ChatPromptTemplate\n",
    "from langchain_core.runnables import RunnablePassthrough\n",
    "from langchain_openai import ChatOpenAI"
   ]
  },
  {
   "cell_type": "code",
   "execution_count": null,
   "metadata": {},
   "outputs": [],
   "source": [
    "retriever = TavilySearchAPIRetriever(k=3)\n",
    "\n",
    "prompt = ChatPromptTemplate.from_template(\n",
    "\"\"\"Answer the question based only on the context provided.\n",
    "\n",
    "Context: {context}\n",
    "\n",
    "Question: {question}\n",
    "\"\"\"\n",
    ")\n",
    "\n",
    "chain = (\n",
    "    RunnablePassthrough.assign(context=(lambda x: x[\"question\"]) | retriever)\n",
    "    | prompt\n",
    "    | ChatOpenAI(model=\"gpt-4-turbo\", verbose=True)\n",
    "    | StrOutputParser()\n",
    ")"
   ]
  },
  {
   "cell_type": "code",
   "execution_count": null,
   "metadata": {},
   "outputs": [],
   "source": [
    "chain.invoke(\n",
    "    {\"question\": \"الان قیمت طلا گرمی چنده؟\"},\n",
    "    config={'callbacks': [ConsoleCallbackHandler()]}\n",
    ")"
   ]
  },
  {
   "cell_type": "markdown",
   "metadata": {},
   "source": [
    "### Custom Agent With Tavily Search API"
   ]
  },
  {
   "cell_type": "code",
   "execution_count": 60,
   "metadata": {},
   "outputs": [],
   "source": [
    "from datetime import datetime\n",
    "from langchain import hub\n",
    "from langchain.agents import AgentExecutor, create_openai_functions_agent\n",
    "from langchain_community.tools.tavily_search import TavilySearchResults\n",
    "from langchain_openai import ChatOpenAI\n",
    "from langchain.tools import BaseTool\n",
    "from langchain.callbacks import get_openai_callback"
   ]
  },
  {
   "cell_type": "code",
   "execution_count": 44,
   "metadata": {},
   "outputs": [],
   "source": [
    "class CurrentDatetimeTool(BaseTool):\n",
    "    def __init__(self):\n",
    "        super().__init__(name=\"current_datetime\", description=\"Returns the current datetime\")\n",
    "\n",
    "    def _run(self, *args, **kwargs):\n",
    "        return {\"datetime\": datetime.now().isoformat()}\n",
    "\n",
    "    def _arun(self, *args, **kwargs):\n",
    "        raise NotImplementedError(\"This tool does not support async\")"
   ]
  },
  {
   "cell_type": "code",
   "execution_count": 45,
   "metadata": {},
   "outputs": [],
   "source": [
    "tools = [TavilySearchResults(max_results=1), CurrentDatetimeTool()]"
   ]
  },
  {
   "cell_type": "code",
   "execution_count": 30,
   "metadata": {},
   "outputs": [],
   "source": [
    "base_prompt = hub.pull(\"langchain-ai/openai-functions-template\")"
   ]
  },
  {
   "cell_type": "code",
   "execution_count": 31,
   "metadata": {},
   "outputs": [
    {
     "data": {
      "text/plain": [
       "[SystemMessagePromptTemplate(prompt=PromptTemplate(input_variables=['instructions'], template='{instructions}')),\n",
       " MessagesPlaceholder(variable_name='chat_history', optional=True),\n",
       " HumanMessagePromptTemplate(prompt=PromptTemplate(input_variables=['input'], template='{input}')),\n",
       " MessagesPlaceholder(variable_name='agent_scratchpad')]"
      ]
     },
     "execution_count": 31,
     "metadata": {},
     "output_type": "execute_result"
    }
   ],
   "source": [
    "base_prompt.messages"
   ]
  },
  {
   "cell_type": "code",
   "execution_count": 53,
   "metadata": {},
   "outputs": [],
   "source": [
    "instructions = \"\"\"\n",
    "You are a helpful assistant. Your task is to understand the user's question and provide accurate, factual answers. If the question requires worldwide or updated data, use the search and date-time functions to obtain the necessary information. For questions that require comparisons, query data for each statement as needed.\n",
    "\n",
    "Follow these steps to answer a question:\n",
    "1. Read the question.\n",
    "2. Thoroughly analyze the question.\n",
    "3. Break down long questions into sub-questions.\n",
    "4. Query data for sub-questions if your existing knowledge is insufficient.\n",
    "5. Provide a detailed answer based on the data.\n",
    "\n",
    "Query Data Note:\n",
    "- For time-related data, use the 'current_datetime' function to obtain the current date and time, and include this information in your query.\n",
    "- If you cannot find the needed data or sufficient information, mention a reference or source where the user can find the data themselves.\n",
    "\"\"\"\n",
    "\n",
    "prompt = base_prompt.partial(instructions=instructions)"
   ]
  },
  {
   "cell_type": "code",
   "execution_count": 75,
   "metadata": {},
   "outputs": [],
   "source": [
    "# Choose the LLM that will drive the agent\n",
    "llm = ChatOpenAI(model=\"gpt-4o\")\n",
    "\n",
    "# Construct the OpenAI Functions agent\n",
    "agent = create_openai_functions_agent(llm, tools, prompt)"
   ]
  },
  {
   "cell_type": "code",
   "execution_count": 80,
   "metadata": {},
   "outputs": [],
   "source": [
    "# Create an agent executor by passing in the agent and tools\n",
    "agent_executor = AgentExecutor(agent=agent, tools=tools, stream_runnable=False, verbose=True)"
   ]
  },
  {
   "cell_type": "code",
   "execution_count": 79,
   "metadata": {},
   "outputs": [
    {
     "name": "stdout",
     "output_type": "stream",
     "text": [
      "\n",
      "\n",
      "\u001b[1m> Entering new AgentExecutor chain...\u001b[0m\n",
      "\u001b[32;1m\u001b[1;3m\n",
      "Invoking: `current_datetime` with `current date`\n",
      "\n",
      "\n",
      "\u001b[0m\u001b[33;1m\u001b[1;3m{'datetime': '2024-05-19T12:57:05.639338'}\u001b[0m\u001b[32;1m\u001b[1;3m\n",
      "Invoking: `tavily_search_results_json` with `{'query': 'قیمت دلار امروز ۱۹ می ۲۰۲۴'}`\n",
      "\n",
      "\n",
      "\u001b[0m\u001b[36;1m\u001b[1;3m[{'url': 'https://tejaratnews.com/بخش-طلا-ارز-14/901488-قیمت-دلار-امروز-اسفند', 'content': 'پیش بینی قیمت دلار ۱۹ اسفند ۱۴۰۲ / دلار به کریدور ۵۰ هزار تومانی برمی\\u200cگردد؟. قیمت دلار در نخستین روز هفته با روند صعودی بازگشایی شد. علاوه بر رشد تقاضا، افزایش قیمت در بازارهای جهانی و صعود ...'}]\u001b[0m\u001b[32;1m\u001b[1;3mبرای دریافت دقیق‌ترین و به‌روزترین قیمت دلار، پیشنهاد می‌کنم به سایت‌های معتبر مالی و خبری مانند \"تجارت‌نیوز\" یا \"خبرگزاری‌های رسمی\" مراجعه کنید. در حال حاضر، اطلاعات دقیق قیمت دلار برای تاریخ ۱۹ می ۲۰۲۴ در دسترس نیست.\u001b[0m\n",
      "\n",
      "\u001b[1m> Finished chain.\u001b[0m\n",
      "Total Tokens: 1222\n",
      "Prompt Tokens: 1112\n",
      "Completion Tokens: 110\n",
      "Total Cost (USD): $0.007210\n"
     ]
    }
   ],
   "source": [
    "with get_openai_callback() as cb:\n",
    "    result = agent_executor.invoke({\"input\": \"امروز قیمت دلار چند تومان است؟\"})\n",
    "    print(f\"Total Tokens: {cb.total_tokens}\")\n",
    "    print(f\"Prompt Tokens: {cb.prompt_tokens}\")\n",
    "    print(f\"Completion Tokens: {cb.completion_tokens}\")\n",
    "    total_cost = (cb.prompt_tokens*0.005 + cb.completion_tokens*0.015) / 1000\n",
    "    print(f\"Total Cost (USD): ${total_cost:.6f}\")"
   ]
  },
  {
   "cell_type": "code",
   "execution_count": 78,
   "metadata": {},
   "outputs": [
    {
     "data": {
      "text/markdown": [
       "برای مشاهده قیمت دقیق دلار به روز ۱۹ می ۲۰۲۴، می‌توانید به وبسایت‌های معتبر مانند [شبکه اطلاع رسانی طلا، سکه و ارز](https://www.tgju.org/) مراجعه کنید. در این وبسایت‌ها قیمت زنده دلار و سایر ارزها به صورت لحظه‌ای به‌روز می‌شود."
      ],
      "text/plain": [
       "<IPython.core.display.Markdown object>"
      ]
     },
     "metadata": {},
     "output_type": "display_data"
    }
   ],
   "source": [
    "from IPython.display import display, Markdown\n",
    "\n",
    "display(Markdown(result[\"output\"]))"
   ]
  }
 ],
 "metadata": {
  "kernelspec": {
   "display_name": "Python 3 (ipykernel)",
   "language": "python",
   "name": "python3"
  },
  "language_info": {
   "codemirror_mode": {
    "name": "ipython",
    "version": 3
   },
   "file_extension": ".py",
   "mimetype": "text/x-python",
   "name": "python",
   "nbconvert_exporter": "python",
   "pygments_lexer": "ipython3",
   "version": "3.11.8"
  }
 },
 "nbformat": 4,
 "nbformat_minor": 4
}
